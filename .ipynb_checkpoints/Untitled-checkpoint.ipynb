{
 "cells": [
  {
   "cell_type": "code",
   "execution_count": 1,
   "id": "0b2f1076",
   "metadata": {},
   "outputs": [],
   "source": [
    "import re\n",
    "import pandas as pd"
   ]
  },
  {
   "cell_type": "code",
   "execution_count": 2,
   "id": "d555fe8a",
   "metadata": {},
   "outputs": [],
   "source": [
    "data = {'teks': [\n",
    "    \"Saya suka dengan makanan laut\",\n",
    "    \"Saya suka dengan minuman yang manis\",\n",
    "    \"Kemarin saya makan makanan laut\",\n",
    "    \"Hari ini saya makan makanan khas Sunda\",\n",
    "    \"Besok saya berencana makan makanan khas Betawi\",\n",
    "    \"Kemarin saya makan roti\",\n",
    "    \"Hari ini saya makan Pizza\",\n",
    "    \"Besok saya berencana makan Burger\",\n",
    "    \"Hari ini saya minum teh tawar\",\n",
    "    \"Kemarin saya minum Coca Cola\",\n",
    "    \"Besok saya berencana minum kopi\",\n",
    "    \"Lusa saya berencana minum teh manis\"\n",
    "]}"
   ]
  },
  {
   "cell_type": "code",
   "execution_count": 3,
   "id": "1f9f276e",
   "metadata": {},
   "outputs": [],
   "source": [
    "data = pd.DataFrame(data)"
   ]
  },
  {
   "cell_type": "code",
   "execution_count": 4,
   "id": "a45c2531",
   "metadata": {},
   "outputs": [],
   "source": [
    "data['newData'] = data['teks'].apply(lambda x:gensim.utils.simple_preprocess(x))"
   ]
  },
  {
   "cell_type": "code",
   "execution_count": 14,
   "id": "94d47ad1",
   "metadata": {},
   "outputs": [],
   "source": [
    "data['word2vec'] = gensim.models.Word2Vec(data['newData'])"
   ]
  },
  {
   "cell_type": "code",
   "execution_count": 15,
   "id": "5c90618f",
   "metadata": {},
   "outputs": [
    {
     "data": {
      "text/html": [
       "<div>\n",
       "<style scoped>\n",
       "    .dataframe tbody tr th:only-of-type {\n",
       "        vertical-align: middle;\n",
       "    }\n",
       "\n",
       "    .dataframe tbody tr th {\n",
       "        vertical-align: top;\n",
       "    }\n",
       "\n",
       "    .dataframe thead th {\n",
       "        text-align: right;\n",
       "    }\n",
       "</style>\n",
       "<table border=\"1\" class=\"dataframe\">\n",
       "  <thead>\n",
       "    <tr style=\"text-align: right;\">\n",
       "      <th></th>\n",
       "      <th>teks</th>\n",
       "      <th>newData</th>\n",
       "      <th>word2vec</th>\n",
       "    </tr>\n",
       "  </thead>\n",
       "  <tbody>\n",
       "    <tr>\n",
       "      <th>0</th>\n",
       "      <td>Saya suka dengan makanan laut</td>\n",
       "      <td>[saya, suka, dengan, makanan, laut]</td>\n",
       "      <td>Word2Vec(vocab=2, vector_size=100, alpha=0.025)</td>\n",
       "    </tr>\n",
       "    <tr>\n",
       "      <th>1</th>\n",
       "      <td>Saya suka dengan minuman yang manis</td>\n",
       "      <td>[saya, suka, dengan, minuman, yang, manis]</td>\n",
       "      <td>Word2Vec(vocab=2, vector_size=100, alpha=0.025)</td>\n",
       "    </tr>\n",
       "    <tr>\n",
       "      <th>2</th>\n",
       "      <td>Kemarin saya makan makanan laut</td>\n",
       "      <td>[kemarin, saya, makan, makanan, laut]</td>\n",
       "      <td>Word2Vec(vocab=2, vector_size=100, alpha=0.025)</td>\n",
       "    </tr>\n",
       "    <tr>\n",
       "      <th>3</th>\n",
       "      <td>Hari ini saya makan makanan khas Sunda</td>\n",
       "      <td>[hari, ini, saya, makan, makanan, khas, sunda]</td>\n",
       "      <td>Word2Vec(vocab=2, vector_size=100, alpha=0.025)</td>\n",
       "    </tr>\n",
       "    <tr>\n",
       "      <th>4</th>\n",
       "      <td>Besok saya berencana makan makanan khas Betawi</td>\n",
       "      <td>[besok, saya, berencana, makan, makanan, khas,...</td>\n",
       "      <td>Word2Vec(vocab=2, vector_size=100, alpha=0.025)</td>\n",
       "    </tr>\n",
       "  </tbody>\n",
       "</table>\n",
       "</div>"
      ],
      "text/plain": [
       "                                             teks  \\\n",
       "0                   Saya suka dengan makanan laut   \n",
       "1             Saya suka dengan minuman yang manis   \n",
       "2                 Kemarin saya makan makanan laut   \n",
       "3          Hari ini saya makan makanan khas Sunda   \n",
       "4  Besok saya berencana makan makanan khas Betawi   \n",
       "\n",
       "                                             newData  \\\n",
       "0                [saya, suka, dengan, makanan, laut]   \n",
       "1         [saya, suka, dengan, minuman, yang, manis]   \n",
       "2              [kemarin, saya, makan, makanan, laut]   \n",
       "3     [hari, ini, saya, makan, makanan, khas, sunda]   \n",
       "4  [besok, saya, berencana, makan, makanan, khas,...   \n",
       "\n",
       "                                          word2vec  \n",
       "0  Word2Vec(vocab=2, vector_size=100, alpha=0.025)  \n",
       "1  Word2Vec(vocab=2, vector_size=100, alpha=0.025)  \n",
       "2  Word2Vec(vocab=2, vector_size=100, alpha=0.025)  \n",
       "3  Word2Vec(vocab=2, vector_size=100, alpha=0.025)  \n",
       "4  Word2Vec(vocab=2, vector_size=100, alpha=0.025)  "
      ]
     },
     "execution_count": 15,
     "metadata": {},
     "output_type": "execute_result"
    }
   ],
   "source": [
    "data.head()"
   ]
  },
  {
   "cell_type": "code",
   "execution_count": 15,
   "id": "0b797670",
   "metadata": {},
   "outputs": [],
   "source": [
    "data = {'teks': [\n",
    "    \"Saya suka dengan makanan laut\",\n",
    "    \"Saya suka dengan minuman yang manis\",\n",
    "    \"Kemarin saya makan makanan laut\",\n",
    "    \"Hari ini saya makan makanan khas Sunda\",\n",
    "    \"Besok saya berencana makan makanan khas Betawi\",\n",
    "    \"Kemarin saya makan roti\",\n",
    "    \"Hari ini saya makan Pizza\",\n",
    "    \"Besok saya berencana makan Burger\",\n",
    "    \"Hari ini saya minum teh tawar\",\n",
    "    \"Kemarin saya minum Coca Cola\",\n",
    "    \"Besok saya berencana minum kopi\",\n",
    "    \"Lusa saya berencana minum teh manis\"\n",
    "    ]}"
   ]
  },
  {
   "cell_type": "code",
   "execution_count": 16,
   "id": "f72929c6",
   "metadata": {},
   "outputs": [
    {
     "data": {
      "text/html": [
       "<div>\n",
       "<style scoped>\n",
       "    .dataframe tbody tr th:only-of-type {\n",
       "        vertical-align: middle;\n",
       "    }\n",
       "\n",
       "    .dataframe tbody tr th {\n",
       "        vertical-align: top;\n",
       "    }\n",
       "\n",
       "    .dataframe thead th {\n",
       "        text-align: right;\n",
       "    }\n",
       "</style>\n",
       "<table border=\"1\" class=\"dataframe\">\n",
       "  <thead>\n",
       "    <tr style=\"text-align: right;\">\n",
       "      <th></th>\n",
       "      <th>teks</th>\n",
       "    </tr>\n",
       "  </thead>\n",
       "  <tbody>\n",
       "    <tr>\n",
       "      <th>0</th>\n",
       "      <td>Saya suka dengan makanan laut</td>\n",
       "    </tr>\n",
       "    <tr>\n",
       "      <th>1</th>\n",
       "      <td>Saya suka dengan minuman yang manis</td>\n",
       "    </tr>\n",
       "    <tr>\n",
       "      <th>2</th>\n",
       "      <td>Kemarin saya makan makanan laut</td>\n",
       "    </tr>\n",
       "    <tr>\n",
       "      <th>3</th>\n",
       "      <td>Hari ini saya makan makanan khas Sunda</td>\n",
       "    </tr>\n",
       "    <tr>\n",
       "      <th>4</th>\n",
       "      <td>Besok saya berencana makan makanan khas Betawi</td>\n",
       "    </tr>\n",
       "  </tbody>\n",
       "</table>\n",
       "</div>"
      ],
      "text/plain": [
       "                                             teks\n",
       "0                   Saya suka dengan makanan laut\n",
       "1             Saya suka dengan minuman yang manis\n",
       "2                 Kemarin saya makan makanan laut\n",
       "3          Hari ini saya makan makanan khas Sunda\n",
       "4  Besok saya berencana makan makanan khas Betawi"
      ]
     },
     "execution_count": 16,
     "metadata": {},
     "output_type": "execute_result"
    }
   ],
   "source": [
    "import re\n",
    "import pandas as pd\n",
    "df = pd.DataFrame(data)\n",
    "df.head()"
   ]
  },
  {
   "cell_type": "code",
   "execution_count": 39,
   "id": "0382608f",
   "metadata": {},
   "outputs": [
    {
     "data": {
      "text/plain": [
       "0                  [Saya, suka, dengan, makanan, laut]\n",
       "1           [Saya, suka, dengan, minuman, yang, manis]\n",
       "2                [Kemarin, saya, makan, makanan, laut]\n",
       "3       [Hari, ini, saya, makan, makanan, khas, Sunda]\n",
       "4    [Besok, saya, berencana, makan, makanan, khas,...\n",
       "Name: teks, dtype: object"
      ]
     },
     "execution_count": 39,
     "metadata": {},
     "output_type": "execute_result"
    }
   ],
   "source": [
    "df['teks'].head(5).apply(lambda mess: (mess.split()))"
   ]
  },
  {
   "cell_type": "code",
   "execution_count": 40,
   "id": "236f33e7",
   "metadata": {},
   "outputs": [],
   "source": [
    "from sklearn.feature_extraction.text import CountVectorizer"
   ]
  },
  {
   "cell_type": "code",
   "execution_count": 41,
   "id": "88b0367b",
   "metadata": {},
   "outputs": [
    {
     "name": "stdout",
     "output_type": "stream",
     "text": [
      "28\n"
     ]
    }
   ],
   "source": [
    "bow_transformer = CountVectorizer(analyzer=text_process).fit(df['teks'])\n",
    "\n",
    "print(len(bow_transformer.vocabulary_))"
   ]
  },
  {
   "cell_type": "code",
   "execution_count": 42,
   "id": "0b902c4d",
   "metadata": {},
   "outputs": [],
   "source": [
    "messages_bow = bow_transformer.transform(df['teks'])"
   ]
  },
  {
   "cell_type": "code",
   "execution_count": 43,
   "id": "099c739a",
   "metadata": {},
   "outputs": [
    {
     "name": "stdout",
     "output_type": "stream",
     "text": [
      "Shape of Sparse Matrix:  (12, 28)\n",
      "Amount of Non-Zero occurences:  66\n"
     ]
    }
   ],
   "source": [
    "print('Shape of Sparse Matrix: ', messages_bow.shape)\n",
    "print('Amount of Non-Zero occurences: ', messages_bow.nnz)"
   ]
  },
  {
   "cell_type": "code",
   "execution_count": 44,
   "id": "445d1685",
   "metadata": {},
   "outputs": [
    {
     "name": "stdout",
     "output_type": "stream",
     "text": [
      "[[0.         0.         0.         0.         0.         0.\n",
      "  0.         0.         0.         0.46480668 0.         0.\n",
      "  0.46480668 0.         0.         0.         0.46480668 0.\n",
      "  0.36853631 0.         0.         0.         0.         0.\n",
      "  0.46480668 0.         0.         0.        ]\n",
      " [0.         0.         0.         0.         0.         0.\n",
      "  0.         0.         0.         0.38599816 0.         0.\n",
      "  0.38599816 0.         0.         0.         0.         0.\n",
      "  0.         0.38599816 0.         0.44945615 0.         0.\n",
      "  0.38599816 0.         0.         0.44945615]\n",
      " [0.         0.         0.         0.         0.         0.\n",
      "  0.50466611 0.         0.         0.         0.         0.\n",
      "  0.         0.         0.         0.         0.57130511 0.37503607\n",
      "  0.45297688 0.         0.         0.         0.         0.27033773\n",
      "  0.         0.         0.         0.        ]\n",
      " [0.         0.         0.         0.         0.         0.38737862\n",
      "  0.         0.         0.         0.         0.51062456 0.\n",
      "  0.         0.38737862 0.4385303  0.         0.         0.28787539\n",
      "  0.34770228 0.         0.         0.         0.         0.20750959\n",
      "  0.         0.         0.         0.        ]\n",
      " [0.39315427 0.51823777 0.         0.         0.         0.\n",
      "  0.         0.         0.         0.         0.         0.35288638\n",
      "  0.         0.         0.44506861 0.         0.         0.2921675\n",
      "  0.35288638 0.         0.         0.         0.         0.21060347\n",
      "  0.         0.         0.         0.        ]\n",
      " [0.         0.         0.         0.         0.         0.\n",
      "  0.52875788 0.         0.         0.         0.         0.\n",
      "  0.         0.         0.         0.         0.         0.39293956\n",
      "  0.         0.         0.         0.         0.69698417 0.28324312\n",
      "  0.         0.         0.         0.        ]\n",
      " [0.         0.         0.         0.         0.         0.46743616\n",
      "  0.         0.         0.61615271 0.         0.         0.\n",
      "  0.         0.46743616 0.         0.         0.         0.34736912\n",
      "  0.         0.         0.         0.         0.         0.25039452\n",
      "  0.         0.         0.         0.        ]\n",
      " [0.47768892 0.         0.62966743 0.         0.         0.\n",
      "  0.         0.         0.         0.         0.         0.42876277\n",
      "  0.         0.         0.         0.         0.         0.35498833\n",
      "  0.         0.         0.         0.         0.         0.25588669\n",
      "  0.         0.         0.         0.        ]\n",
      " [0.         0.         0.         0.         0.         0.40450205\n",
      "  0.         0.         0.         0.         0.         0.\n",
      "  0.         0.40450205 0.         0.         0.         0.\n",
      "  0.         0.         0.36307189 0.         0.         0.2166822\n",
      "  0.         0.53319588 0.45791481 0.        ]\n",
      " [0.         0.         0.         0.55863737 0.55863737 0.\n",
      "  0.4238029  0.         0.         0.         0.         0.\n",
      "  0.         0.         0.         0.         0.         0.\n",
      "  0.         0.         0.3803959  0.         0.         0.22702122\n",
      "  0.         0.         0.         0.        ]\n",
      " [0.46445016 0.         0.         0.         0.         0.\n",
      "  0.         0.         0.         0.         0.         0.41687996\n",
      "  0.         0.         0.         0.61221671 0.         0.\n",
      "  0.         0.         0.41687996 0.         0.         0.24879499\n",
      "  0.         0.         0.         0.        ]\n",
      " [0.         0.         0.         0.         0.         0.\n",
      "  0.         0.52943349 0.         0.         0.         0.36050995\n",
      "  0.         0.         0.         0.         0.         0.\n",
      "  0.         0.45468363 0.36050995 0.         0.         0.21515323\n",
      "  0.         0.         0.45468363 0.        ]]\n"
     ]
    }
   ],
   "source": [
    "from sklearn.feature_extraction.text import TfidfTransformer\n",
    "from scipy.sparse import csr_matrix\n",
    "\n",
    "tfidf_transformer = TfidfTransformer().fit(messages_bow)\n",
    "messages_tfidf = tfidf_transformer.transform(messages_bow)\n",
    "\n",
    "print(csr_matrix(messages_tfidf).todense())"
   ]
  },
  {
   "cell_type": "code",
   "execution_count": null,
   "id": "3d2c6500",
   "metadata": {},
   "outputs": [],
   "source": []
  }
 ],
 "metadata": {
  "kernelspec": {
   "display_name": "Python 3 (ipykernel)",
   "language": "python",
   "name": "python3"
  },
  "language_info": {
   "codemirror_mode": {
    "name": "ipython",
    "version": 3
   },
   "file_extension": ".py",
   "mimetype": "text/x-python",
   "name": "python",
   "nbconvert_exporter": "python",
   "pygments_lexer": "ipython3",
   "version": "3.9.7"
  }
 },
 "nbformat": 4,
 "nbformat_minor": 5
}
