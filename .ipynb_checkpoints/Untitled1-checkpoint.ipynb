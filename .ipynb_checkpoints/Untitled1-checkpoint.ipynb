{
 "cells": [
  {
   "cell_type": "code",
   "execution_count": 1,
   "id": "aeac7878",
   "metadata": {},
   "outputs": [
    {
     "name": "stderr",
     "output_type": "stream",
     "text": [
      "[nltk_data] Downloading package averaged_perceptron_tagger to\n",
      "[nltk_data]     C:\\Users\\itosu\\AppData\\Roaming\\nltk_data...\n",
      "[nltk_data]   Package averaged_perceptron_tagger is already up-to-\n",
      "[nltk_data]       date!\n"
     ]
    },
    {
     "data": {
      "text/plain": [
       "True"
      ]
     },
     "execution_count": 1,
     "metadata": {},
     "output_type": "execute_result"
    }
   ],
   "source": [
    "from nltk import pos_tag, word_tokenize\n",
    "import nltk\n",
    "nltk.download('averaged_perceptron_tagger')"
   ]
  },
  {
   "cell_type": "code",
   "execution_count": 2,
   "id": "216dd3f4",
   "metadata": {},
   "outputs": [
    {
     "data": {
      "text/plain": [
       "[('Social', 'NNP'),\n",
       " ('Signal', 'NNP'),\n",
       " ('Processing', 'NNP'),\n",
       " ('can', 'MD'),\n",
       " ('be', 'VB'),\n",
       " ('considered', 'VBN'),\n",
       " ('as', 'IN'),\n",
       " ('blue-sky', 'JJ'),\n",
       " ('research', 'NN'),\n",
       " ('in', 'IN'),\n",
       " ('the', 'DT'),\n",
       " ('Artificial', 'NNP'),\n",
       " ('Intelligence', 'NNP'),\n",
       " ('area', 'NN'),\n",
       " ('.', '.')]"
      ]
     },
     "execution_count": 2,
     "metadata": {},
     "output_type": "execute_result"
    }
   ],
   "source": [
    "pos_tag(word_tokenize(\"Social Signal Processing can be considered as blue-sky research in the Artificial Intelligence area.\"))"
   ]
  },
  {
   "cell_type": "code",
   "execution_count": 3,
   "id": "6b27c46f",
   "metadata": {},
   "outputs": [
    {
     "data": {
      "text/plain": [
       "[('Please', 'VB'),\n",
       " ('book', 'NN'),\n",
       " ('me', 'PRP'),\n",
       " ('a', 'DT'),\n",
       " ('flight', 'NN'),\n",
       " ('to', 'TO'),\n",
       " ('Indonesia', 'NNP'),\n",
       " ('.', '.'),\n",
       " ('I', 'PRP'),\n",
       " ('am', 'VBP'),\n",
       " ('planning', 'VBG'),\n",
       " ('to', 'TO'),\n",
       " ('visit', 'VB'),\n",
       " ('Jojo', 'NNP'),\n",
       " ('Academy', 'NNP'),\n",
       " ('this', 'DT'),\n",
       " ('week', 'NN'),\n",
       " ('.', '.')]"
      ]
     },
     "execution_count": 3,
     "metadata": {},
     "output_type": "execute_result"
    }
   ],
   "source": [
    "pos_tag(word_tokenize(\"Please book me a flight to Indonesia. I am planning to visit Jojo Academy this week.\"))"
   ]
  },
  {
   "cell_type": "code",
   "execution_count": 4,
   "id": "e37517ce",
   "metadata": {},
   "outputs": [
    {
     "data": {
      "text/plain": [
       "[('I', 'PRP'),\n",
       " ('think', 'VBP'),\n",
       " ('therefore', 'RB'),\n",
       " ('I', 'PRP'),\n",
       " ('am', 'VBP'),\n",
       " ('the', 'DT'),\n",
       " ('first', 'JJ'),\n",
       " ('principle', 'NN'),\n",
       " ('of', 'IN'),\n",
       " ('Rene', 'NNP'),\n",
       " ('Descartes', 'NNP'),\n",
       " ('’', 'NNP'),\n",
       " ('s', 'VBD'),\n",
       " ('philosophy', 'NN'),\n",
       " ('.', '.')]"
      ]
     },
     "execution_count": 4,
     "metadata": {},
     "output_type": "execute_result"
    }
   ],
   "source": [
    "pos_tag(word_tokenize(\"I think therefore I am the first principle of Rene Descartes’s philosophy.\"))"
   ]
  },
  {
   "cell_type": "code",
   "execution_count": 5,
   "id": "4c3deed8",
   "metadata": {},
   "outputs": [
    {
     "data": {
      "text/plain": [
       "['Social',\n",
       " 'Signal',\n",
       " 'Processing',\n",
       " 'can',\n",
       " 'be',\n",
       " 'considered',\n",
       " 'as',\n",
       " 'blue-sky',\n",
       " 'research',\n",
       " 'in',\n",
       " 'the',\n",
       " 'Artificial',\n",
       " 'Intelligence',\n",
       " 'area',\n",
       " '.']"
      ]
     },
     "execution_count": 5,
     "metadata": {},
     "output_type": "execute_result"
    }
   ],
   "source": [
    "word_tokenize(\"Social Signal Processing can be considered as blue-sky research in the Artificial Intelligence area.\")"
   ]
  },
  {
   "cell_type": "code",
   "execution_count": null,
   "id": "d97e5ec7",
   "metadata": {},
   "outputs": [],
   "source": []
  }
 ],
 "metadata": {
  "kernelspec": {
   "display_name": "Python 3 (ipykernel)",
   "language": "python",
   "name": "python3"
  },
  "language_info": {
   "codemirror_mode": {
    "name": "ipython",
    "version": 3
   },
   "file_extension": ".py",
   "mimetype": "text/x-python",
   "name": "python",
   "nbconvert_exporter": "python",
   "pygments_lexer": "ipython3",
   "version": "3.9.7"
  }
 },
 "nbformat": 4,
 "nbformat_minor": 5
}
