{
 "cells": [
  {
   "cell_type": "code",
   "execution_count": 1,
   "id": "9bc56477",
   "metadata": {},
   "outputs": [],
   "source": [
    "import re\n",
    "def regexFind(regex,string):\n",
    "    if re.match(regex, string):\n",
    "        return True\n",
    "    else:\n",
    "        return False"
   ]
  },
  {
   "cell_type": "code",
   "execution_count": 2,
   "id": "9bd008bd",
   "metadata": {},
   "outputs": [],
   "source": [
    "regexEmail = \"^[^@ \\n]+@[bee]+\\.[^ \\t\\n]+$\""
   ]
  },
  {
   "cell_type": "code",
   "execution_count": 3,
   "id": "c1a80261",
   "metadata": {},
   "outputs": [
    {
     "name": "stdout",
     "output_type": "stream",
     "text": [
      "Email 1 = True\n",
      "Email 2 = True\n",
      "Email 3 = False\n",
      "Email 4 = False\n"
     ]
    }
   ],
   "source": [
    "Email1 = \"jojo.wanda@bee.ac.id\"\n",
    "Email2 = \"jojo@bee.ac.uk\"\n",
    "Email3 = \"Jollybee.ac.uk\"\n",
    "Email4 = \"Jojo@bee.edu.au aiueo\"\n",
    "\n",
    "print(\"Email 1 =\", regexFind(regexEmail,Email1))\n",
    "print(\"Email 2 =\", regexFind(regexEmail,Email2))\n",
    "print(\"Email 3 =\", regexFind(regexEmail,Email3))\n",
    "print(\"Email 4 =\", regexFind(regexEmail,Email4))"
   ]
  },
  {
   "cell_type": "code",
   "execution_count": 4,
   "id": "11513669",
   "metadata": {},
   "outputs": [],
   "source": [
    "regexPhone = \"^\\+[6][0,2,5]\\d{6,12}$\""
   ]
  },
  {
   "cell_type": "code",
   "execution_count": 5,
   "id": "2777e669",
   "metadata": {},
   "outputs": [
    {
     "name": "stdout",
     "output_type": "stream",
     "text": [
      "Phone 1 = True\n",
      "Phone 2 = True\n",
      "Phone 3 = True\n",
      "Phone 4 = False\n",
      "Phone 5 = False\n",
      "Phone 6 = False\n"
     ]
    }
   ],
   "source": [
    "Phone1 = \"+6289876756434\"\n",
    "Phone2 = \"+60358577\"\n",
    "Phone3 = \"+65388888000\"\n",
    "Phone4 = \"+660999899\"\n",
    "Phone5 = \"+628987675643423124155\"\n",
    "Phone6 = \"082898767564\"\n",
    "\n",
    "print(\"Phone 1 =\", regexFind(regexPhone,Phone1))\n",
    "print(\"Phone 2 =\", regexFind(regexPhone,Phone2))\n",
    "print(\"Phone 3 =\", regexFind(regexPhone,Phone3))\n",
    "print(\"Phone 4 =\", regexFind(regexPhone,Phone4))\n",
    "print(\"Phone 5 =\", regexFind(regexPhone,Phone5))\n",
    "print(\"Phone 6 =\", regexFind(regexPhone,Phone6))"
   ]
  },
  {
   "cell_type": "code",
   "execution_count": null,
   "id": "2e6f97a5",
   "metadata": {},
   "outputs": [],
   "source": []
  }
 ],
 "metadata": {
  "kernelspec": {
   "display_name": "Python 3 (ipykernel)",
   "language": "python",
   "name": "python3"
  },
  "language_info": {
   "codemirror_mode": {
    "name": "ipython",
    "version": 3
   },
   "file_extension": ".py",
   "mimetype": "text/x-python",
   "name": "python",
   "nbconvert_exporter": "python",
   "pygments_lexer": "ipython3",
   "version": "3.9.7"
  }
 },
 "nbformat": 4,
 "nbformat_minor": 5
}
